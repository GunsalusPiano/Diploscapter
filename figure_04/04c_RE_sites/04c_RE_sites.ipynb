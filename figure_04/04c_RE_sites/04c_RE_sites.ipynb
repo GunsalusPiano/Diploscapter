{
 "cells": [
  {
   "cell_type": "code",
   "execution_count": null,
   "id": "859b6ee2-61d5-41c3-8659-fd80deb66ddb",
   "metadata": {},
   "outputs": [],
   "source": [
    "##########################################################################################\n",
    "# Plotting the fraction of restriction enzyme sites along the lengths of Dco chromosomes #\n",
    "##########################################################################################\n",
    "#\n",
    "# An Arima HiC experiment was done on D. coronatus chromosomes to aid the assembly scaffolding.\n",
    "# Arima HiC restriction enzymes cut at GATC and GANTC. We used the script below to identify and\n",
    "# calculate the occurrence of these RE sequences to see if the HiC results corresponded with\n",
    "# RE cut frequencies (they do not).\n",
    "#\n",
    "# First, make a file \"Arima_HiC_restriction_sites.txt\" with every recognition sequence (and reverse\n",
    "# complement) separated by a return character.\n",
    "#\n",
    "# Then, run \"fraction_small_multiseq_along_length.py\" to count up all the RE sites in intervals\n",
    "# of 100,000 bps.\n",
    "#\n",
    "# Arguments:\n",
    "#    -f: The genomic scaffolds FASTA file (=\"Dcor.genomic.fasta\")\n",
    "#    -s: The text file (= \"Arima_HiC_restriction_sites.txt\") with all the RE sites\n",
    "#    -p: output file prefix\n",
    "#    -w: window (interval) size to calculate the RE site occupancy (=100000)\n",
    "#    -i: increment size (=100000)\n",
    "#    -x: x-axis name\n",
    "#    -y: y-axis name\n",
    "run fraction_small_multiseq_along_length.py -f Dcor.genomic.fasta -s Arima_HiC_restriction_sites.txt -p Dcor -w 100000 -i 100000 -x scaffold_position -y fraction_Arima_RE"
   ]
  },
  {
   "cell_type": "code",
   "execution_count": null,
   "id": "8d3c56c8-29ab-4c7f-93e7-919122741ca6",
   "metadata": {},
   "outputs": [],
   "source": [
    "##########################################################################################\n",
    "# Plotting the fraction of restriction enzyme sites along the lengths of Dpa chromosomes #\n",
    "##########################################################################################\n",
    "#\n",
    "# D. pachys assembly was scaffolded using PoreC data - which only uses NlaIII.\n",
    "# run \"fraction_small_palindrome_along_length.py\" to count up all the RE sites in intervals\n",
    "# of 100,000 bps.\n",
    "#\n",
    "# Arguments:\n",
    "#    -f: The genomic scaffolds FASTA file (=\"Dpac.genomic.fasta\")\n",
    "#    -s: RE recognition sequence (for this, NlaIII site GATC)\n",
    "#    -p: output file prefix\n",
    "#    -w: window (interval) size to calculate the RE site occupancy (=100000)\n",
    "#    -i: increment size (=100000)\n",
    "#    -x: x-axis name\n",
    "#    -y: y-axis name\n",
    "run fraction_small_palindrome_along_length.py -f Dpac.genomic.fasta -s GATC -p Dpac -w 100000 -i 100000 -x scaffold_position -y fraction_NlaIII"
   ]
  }
 ],
 "metadata": {
  "kernelspec": {
   "display_name": "Python 3 (ipykernel)",
   "language": "python",
   "name": "python3"
  },
  "language_info": {
   "codemirror_mode": {
    "name": "ipython",
    "version": 3
   },
   "file_extension": ".py",
   "mimetype": "text/x-python",
   "name": "python",
   "nbconvert_exporter": "python",
   "pygments_lexer": "ipython3",
   "version": "3.9.19"
  }
 },
 "nbformat": 4,
 "nbformat_minor": 5
}
