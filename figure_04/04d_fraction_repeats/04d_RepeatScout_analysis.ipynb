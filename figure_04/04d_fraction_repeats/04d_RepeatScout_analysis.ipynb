{
 "cells": [
  {
   "cell_type": "code",
   "execution_count": null,
   "id": "10a4409e-a7e7-4d33-aae7-a79eed4bfce3",
   "metadata": {},
   "outputs": [],
   "source": [
    "##################################################################\n",
    "# RepeatScout analysis of D. pachys nuclear genome               #\n",
    "##################################################################\n",
    "# \n",
    "# We used the script RepeatScout_repeat_occupancy_table.py to automate the search for repetitive sequences in the Dpa genome.\n",
    "# Our use of RepeatScout broadly follows a repeat annotating method described by Kohta Yoshida & al. (2023) in Nat Ecol Evol\n",
    "# for Pristionchus genomes. First, the script calls RepeatScout to identify repetitive DNA. RepeatMasker is invoked to mark\n",
    "# all genomic positions with repeats identified by RepeatScout. The script then limits the analysis to repetitive DNA occuring\n",
    "# 5 times or more in the genome, and the occupancy of these repeats are tabulated in the format below, where \"Simple_repeat\"\n",
    "# and \"Unspecified\" are categories used by RepeatScout, and \"sum\" is just the sum of these two values.\n",
    "# \n",
    "# coordinate    Simple_repeat    Unspecified      sum\n",
    "# 50000\t              0.00255        0.63467  0.63722\n",
    "# 150000              0.00854        0.28424  0.29278\n",
    "# 250000              0.00804        0.30466   0.3127\n",
    "# ...etc.\n",
    "#\n",
    "# Occupancy (repetitive_DNA/all_DNA) is calculated for every 100,000-bp interval, and plotted at %100000 = 50,000 bp.\n",
    "#\n",
    "# arguments:\n",
    "#     -f: scaffold_1.fasta is DpaA scaffold, scaffold_2.fasta is the DpaB scaffold\n",
    "#     -p: output file prefix.\n",
    "#     -l: l-mer table constructed by RepeatScout (=14).\n",
    "#     -t: the threshold of repeat occurrence to consider (=5).\n",
    "#     -w: window size (in bp) to consider for repeat occupancy (=100,000)\n",
    "#     -i: increment (in bp) of the window (=100,000)\n",
    "python3 RepeatScout_repeat_occupancy_table.py -f scaffold_1.fasta,scaffold_2.fasta -p Dpac -l 14 -t 5 -w 100000 -i 100000"
   ]
  },
  {
   "cell_type": "code",
   "execution_count": null,
   "id": "294805d6-bdbb-4e1e-a6c3-de0e7dab59b8",
   "metadata": {},
   "outputs": [],
   "source": [
    "##################################################################\n",
    "# RepeatScout analysis of D. coronatus nuclear genome            #\n",
    "##################################################################\n",
    "#\n",
    "# Same as above, but with D. coronatus scaffolds SUPER_1.fasta (DcoB) and SUPER_2.fasta (DcoA).\n",
    "python3 RepeatScout_repeat_occupancy_table.py -f SUPER_1.fasta,SUPER_2.fasta -p Dcor -l 14 -t 5 -w 100000 -i 100000"
   ]
  }
 ],
 "metadata": {
  "kernelspec": {
   "display_name": "Python 3 (ipykernel)",
   "language": "python",
   "name": "python3"
  },
  "language_info": {
   "codemirror_mode": {
    "name": "ipython",
    "version": 3
   },
   "file_extension": ".py",
   "mimetype": "text/x-python",
   "name": "python",
   "nbconvert_exporter": "python",
   "pygments_lexer": "ipython3",
   "version": "3.9.19"
  }
 },
 "nbformat": 4,
 "nbformat_minor": 5
}
