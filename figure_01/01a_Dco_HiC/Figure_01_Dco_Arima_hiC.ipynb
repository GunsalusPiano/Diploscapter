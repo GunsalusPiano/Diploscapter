{
 "cells": [
  {
   "cell_type": "markdown",
   "id": "8f634b4f-3a2c-475f-82ca-219b8f25aa9b",
   "metadata": {},
   "source": [
    "Mapping Diploscapter coronatus Arima HiC reads, generate a HiC plot, and do a principal component analysis on the HiC data"
   ]
  },
  {
   "cell_type": "code",
   "execution_count": null,
   "id": "f032aa42-6c71-4669-9868-4b59a6acf2c6",
   "metadata": {},
   "outputs": [],
   "source": [
    "# run the Arima pipeline\n",
    "# modified from the original at Arima’s GitHub\n",
    "# https://github.com/ArimaGenomics/mapping_pipeline\n",
    "#\n",
    "# input files:\n",
    "#   -the hic library reads, SRA run ERR10228685\n",
    "#   -reference genome, nxDipCoro1_1.curated_primary.fa\n",
    "#   -\n",
    "# requires:\n",
    "#   -bwa v0.7.17\n",
    "#   -picard v2.27.5\n",
    "#   -samtools v1.20\n",
    "\n",
    "sbatch JOB_2024-11-18_003_Dco-HiC_Arima_pipe.sh"
   ]
  },
  {
   "cell_type": "code",
   "execution_count": null,
   "id": "ef081802-0ab7-4501-b47d-b616c7a864f5",
   "metadata": {},
   "outputs": [],
   "source": [
    "# The main result of the pipe is a bam file with mappings for both ends of the reads\n",
    "# in ./deduplicated_files\n",
    "# Use bam2pairs from pairix to convert into .pairs file\n",
    "# Then use juicer_tools to convert .pairs into .hic\n",
    "# nxDipCoro1_1.curated_primary.chrom.sizes contains 3 lines and 2 columns:\n",
    "# First column being the chromosome name, second the size in bps\n",
    "# requires:\n",
    "#   -pairix v0.3.8 (https://github.com/4dn-dcic/pairix)\n",
    "#   -juicer_tools v1.22.01 (https://github.com/aidenlab/JuicerTools)\n",
    "\n",
    "# bam2pairs\n",
    "bam2pairs -l Dco_hiC_rep1.bam Dco_hiC_rep1\n",
    "\n",
    "# juicer_tools\n",
    "java -Xmx64g -jar juicer_tools.jar pre Dco_hiC_rep1.bsorted.pairs.gz Dco_hiC_rep1.bsorted.hic ./nxDipCoro1_1.curated_primary.chrom.sizes"
   ]
  },
  {
   "cell_type": "code",
   "execution_count": null,
   "id": "4ee3c135-221c-4ed4-b4df-63f8bafc9079",
   "metadata": {},
   "outputs": [],
   "source": [
    "# Try principal component analysis and plotting the matrix with hicexplorer\n",
    "# convert into .cool, resolution 100,000 bps\n",
    "# requires:\n",
    "#   -hicexplorer v3.7.5 (https://github.com/deeptools/HiCExplorer)\n",
    "\n",
    "hicConvertFormat --matrices Dco_hiC_rep1.bsorted.hic --inputFormat hic -r 100000 --outFileName Dco_hiC_rep1.bsorted.cool --outputFormat cool\n",
    "hicConvertFormat --matrices Dco_hiC_rep1.bsorted.hic --inputFormat hic -r 250000 --outFileName Dco_hiC_rep1.bsorted.cool --outputFormat cool"
   ]
  },
  {
   "cell_type": "code",
   "execution_count": null,
   "id": "c5551b59-d59e-469f-9ace-b51854b8f601",
   "metadata": {},
   "outputs": [],
   "source": [
    "# plot the hiC matrix at the 250,000 bp resolution\n",
    "\n",
    "hicPlotMatrix -m Dco_hiC_rep1.bsorted_250000.cool --outFileName Dco_hiC_rep1.bsorted_250000.cool.range_0-2000.colorMap_binary.pdf --vMin 0 --vMax 2000 --colorMap binary "
   ]
  },
  {
   "cell_type": "code",
   "execution_count": null,
   "id": "8ffb81d6-01f3-4a16-a81d-df6076af190b",
   "metadata": {},
   "outputs": [],
   "source": [
    "# Do the PCA using the 100,000-bp resolution matrix\n",
    "# convert to h5\n",
    "hicConvertFormat --matrices Dco_hiC_rep1.bsorted_100000.cool --inputFormat cool -r 100000 --outFileName Dco_hiC_rep1.bsorted_100000.h5 --outputFormat h5"
   ]
  },
  {
   "cell_type": "code",
   "execution_count": null,
   "id": "2cd71101-fee0-4cf5-9ad4-da5b0a7949f0",
   "metadata": {},
   "outputs": [],
   "source": [
    "# do a diagnostic before matrix correction\n",
    "hicCorrectMatrix diagnostic_plot -m Dco_hiC_rep1.bsorted_100000.cool -o Dco_hiC_rep1.bsorted_100000.diag.png"
   ]
  },
  {
   "cell_type": "code",
   "execution_count": null,
   "id": "200ae746-3e74-40ae-9af7-339706a9b591",
   "metadata": {},
   "outputs": [],
   "source": [
    "# attempt to correct the matrix, using ICE\n",
    "hicCorrectMatrix correct --matrix Dco_hiC_rep1.bsorted_100000.h5 --filterThreshold -3 3 --correctionMethod ICE --outFileName Dco_hiC_rep1.bsorted_100000.correctedICE.h5"
   ]
  },
  {
   "cell_type": "code",
   "execution_count": null,
   "id": "76659cf0-3d86-4b9b-87f5-1fe7e3ba1451",
   "metadata": {},
   "outputs": [],
   "source": [
    "# Do a PCA on the hiC data\n",
    "# grab the first five PCs\n",
    "\n",
    "hicPCA --matrix Dco_hiC_rep1.bsorted_100000.correctedICE.h5 --outputFileName Dco_hiC_rep1.bsorted_100000.correctedICE.pca1.bedgraph Dco_hiC_rep1.bsorted_100000.correctedICE.pca2.bedgraph Dco\n",
    "_hiC_rep1.bsorted_100000.correctedICE.pca3.bedgraph Dco_hiC_rep1.bsorted_100000.correctedICE.pca4.bedgraph Dco_hiC_re\n",
    "p1.bsorted_100000.correctedICE.pca5.bedgraph --whichEigenvectors 1 2 3 4 5 --format bedgraph --ignoreMaskedBins\n",
    "\n",
    "# the 1st PC is plotted in Figure 4 b, iii and iv"
   ]
  }
 ],
 "metadata": {
  "kernelspec": {
   "display_name": "Python 3 (ipykernel)",
   "language": "python",
   "name": "python3"
  },
  "language_info": {
   "codemirror_mode": {
    "name": "ipython",
    "version": 3
   },
   "file_extension": ".py",
   "mimetype": "text/x-python",
   "name": "python",
   "nbconvert_exporter": "python",
   "pygments_lexer": "ipython3",
   "version": "3.9.19"
  }
 },
 "nbformat": 4,
 "nbformat_minor": 5
}
